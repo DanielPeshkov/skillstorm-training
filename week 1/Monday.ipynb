{
 "cells": [
  {
   "cell_type": "markdown",
   "metadata": {},
   "source": [
    "#### Exercise 1: Working with Dates & Times"
   ]
  },
  {
   "cell_type": "code",
   "execution_count": 1,
   "metadata": {},
   "outputs": [
    {
     "name": "stdout",
     "output_type": "stream",
     "text": [
      "Today's date:  2024-06-17\n",
      "\n",
      "Days until next birthday:  48\n"
     ]
    }
   ],
   "source": [
    "from datetime import datetime as dt\n",
    "from datetime import date\n",
    "from datetime import timedelta\n",
    "\n",
    "curr_datetime = dt.now()\n",
    "print(\"Today's date: \", curr_datetime.strftime(\"%Y-%m-%d\"))\n",
    "\n",
    "birthday = date(2024, 8, 4)\n",
    "today = date.today()\n",
    "delta = birthday - today\n",
    "print(\"\\nDays until next birthday: \", delta.days)"
   ]
  },
  {
   "cell_type": "markdown",
   "metadata": {},
   "source": [
    "#### Exercise 2: Dictionaries and Sets"
   ]
  },
  {
   "cell_type": "code",
   "execution_count": 2,
   "metadata": {},
   "outputs": [
    {
     "name": "stdout",
     "output_type": "stream",
     "text": [
      "\n",
      "Updated student dictionary: \n",
      "Daniel {'Biology': 100, 'Chemistry': 98, 'Physics': 88}\n",
      "John {'Biology': 100, 'Chemistry': 98, 'Physics': 88}\n",
      "Jim {'Biology': 100, 'Chemistry': 98, 'Physics': 88}\n",
      "Jack {'Biology': 100, 'Chemistry': 98, 'Physics': 88}\n",
      "\n",
      "Set of student names:  {'Daniel', 'Jack', 'Jim', 'John'}\n"
     ]
    }
   ],
   "source": [
    "grades = {\n",
    "    \"Daniel\": 100, \n",
    "    \"John\": 100, \n",
    "    \"Jim\": 100,\n",
    "}\n",
    "grades[\"Jack\"] = 100\n",
    "\n",
    "students = {}\n",
    "for student, grade in grades.items():\n",
    "    students[student] = {\"Biology\": grade, \"Chemistry\": grade - 2, \"Physics\": grade - 12}\n",
    "\n",
    "print(\"\\nUpdated student dictionary: \")\n",
    "[print(i[0], i[1]) for i in students.items()]\n",
    "\n",
    "names = set(students.keys())\n",
    "print(\"\\nSet of student names: \", names)"
   ]
  },
  {
   "cell_type": "markdown",
   "metadata": {},
   "source": [
    "#### Exercise 3: Advanced String Operations"
   ]
  },
  {
   "cell_type": "code",
   "execution_count": 3,
   "metadata": {},
   "outputs": [
    {
     "name": "stdout",
     "output_type": "stream",
     "text": [
      "String split by spaces:  ['This', 'is', 'a', 'relatively', 'long', 'string', 'of', 'different', 'words']\n",
      "\n",
      "String joined by pipes:  This|is|a|relatively|long|string|of|different|words\n",
      "\n",
      "Count of each character in the original string: \n",
      "T 1\n",
      "h 1\n",
      "i 5\n",
      "s 4\n",
      "  8\n",
      "a 2\n",
      "r 4\n",
      "e 4\n",
      "l 3\n",
      "t 3\n",
      "v 1\n",
      "y 1\n",
      "o 3\n",
      "n 3\n",
      "g 2\n",
      "f 3\n",
      "d 2\n",
      "w 1\n"
     ]
    }
   ],
   "source": [
    "s = \"This is a relatively long string of different words\"\n",
    "split = s.split()\n",
    "print(\"String split by spaces: \", split)\n",
    "\n",
    "joined = \"|\".join(split)\n",
    "print(\"\\nString joined by pipes: \", joined)\n",
    "\n",
    "from collections import Counter\n",
    "count = Counter(s)\n",
    "print(\"\\nCount of each character in the original string: \")\n",
    "for k, v in count.items():\n",
    "    print(k, v)"
   ]
  },
  {
   "cell_type": "markdown",
   "metadata": {},
   "source": [
    "#### Exercise 4: Lists and Basic Operations"
   ]
  },
  {
   "cell_type": "code",
   "execution_count": 4,
   "metadata": {},
   "outputs": [
    {
     "name": "stdout",
     "output_type": "stream",
     "text": [
      "Original list:  [10, 9, 8, 7, 6, 5, 4, 3, 2, 1]\n",
      "\n",
      "Appended list:  [10, 9, 8, 7, 6, 5, 4, 3, 2, 1, 0]\n",
      "\n",
      "List with 10 removed:  [9, 8, 7, 6, 5, 4, 3, 2, 1, 0]\n",
      "\n",
      "Sorted list:  [0, 1, 2, 3, 4, 5, 6, 7, 8, 9]\n"
     ]
    }
   ],
   "source": [
    "l = [10, 9, 8, 7, 6, 5, 4, 3, 2, 1]\n",
    "print(\"Original list: \", l)\n",
    "l.append(0)\n",
    "print(\"\\nAppended list: \", l)\n",
    "l.remove(10)\n",
    "print(\"\\nList with 10 removed: \", l)\n",
    "l.sort()\n",
    "print(\"\\nSorted list: \", l)"
   ]
  },
  {
   "cell_type": "markdown",
   "metadata": {},
   "source": [
    "#### Challenge 1: List Comprehensions and Filtering"
   ]
  },
  {
   "cell_type": "code",
   "execution_count": 5,
   "metadata": {},
   "outputs": [
    {
     "name": "stdout",
     "output_type": "stream",
     "text": [
      "List of first 10 squares:  [1, 4, 9, 16, 25, 36, 49, 64, 81, 100]\n",
      "\n",
      "List of even squares:  [4, 16, 36, 64, 100]\n",
      "\n",
      "Dictionary mapping integers to their square: \n",
      "{1: 1, 2: 4, 3: 9, 4: 16, 5: 25, 6: 36, 7: 49, 8: 64, 9: 81, 10: 100}\n"
     ]
    }
   ],
   "source": [
    "squares = [i ** 2 for i in range(1, 11)]\n",
    "print(\"List of first 10 squares: \", squares)\n",
    "\n",
    "evens = [i for i in squares if not i % 2]\n",
    "print(\"\\nList of even squares: \", evens)\n",
    "\n",
    "dictionary = {i: i ** 2 for i in range(1, 11)}\n",
    "print(\"\\nDictionary mapping integers to their square: \")\n",
    "print(dictionary)"
   ]
  },
  {
   "cell_type": "markdown",
   "metadata": {},
   "source": [
    "#### Challenge 2: Complex Date and Time Operations"
   ]
  },
  {
   "cell_type": "code",
   "execution_count": 6,
   "metadata": {},
   "outputs": [
    {
     "name": "stdout",
     "output_type": "stream",
     "text": [
      "Starting date:  Jan 01, 1970\n",
      "\n",
      "19,891 days have passed since Jan 01, 1970\n",
      "\n",
      "Meetings this week: \n",
      "Jun 17, 2024\n",
      "Jun 18, 2024\n",
      "Jun 19, 2024\n",
      "Jun 20, 2024\n",
      "Jun 21, 2024\n"
     ]
    }
   ],
   "source": [
    "s = \"Jan 1, 1970\"\n",
    "start = dt.strptime(s, \"%b %d, %Y\")\n",
    "print(\"Starting date: \", start.strftime('%b %d, %Y'))\n",
    "\n",
    "def days_between(start, end):\n",
    "    delta = end - start\n",
    "    return delta.days\n",
    "\n",
    "diff = days_between(start, dt.now())\n",
    "print(f\"\\n{diff:,.0f} days have passed since {start.strftime('%b %d, %Y')}\")\n",
    "\n",
    "def f(start, end, meeting, interval):\n",
    "    delta = end - start\n",
    "    delta = delta.days\n",
    "\n",
    "    meetings = [end - timedelta(days=x) for x in range(0, delta+1, interval+1)]\n",
    "    return meetings\n",
    "\n",
    "def get_meetings(start, end, meeting, interval):\n",
    "    if meeting < start:\n",
    "        return \"Meeting cannot be before start of period!\"\n",
    "    if meeting > end:\n",
    "        return \"Meeting cannot be before end of period!\"\n",
    "    \n",
    "    delta1 = meeting - start\n",
    "    delta2 = end - meeting\n",
    "    interval += 1\n",
    "\n",
    "    meetings = []\n",
    "    for i in range(0, delta1.days+1, interval)[1:][::-1]:\n",
    "        meetings.append(meeting - timedelta(i))\n",
    "\n",
    "    for i in range(0, delta2.days+1, interval):\n",
    "        meetings.append(meeting + timedelta(i))\n",
    "\n",
    "    return meetings\n",
    "\n",
    "today = dt.today()\n",
    "end_of_week = dt.today() + timedelta(4)\n",
    "meeting = dt.today()\n",
    "interval = 0\n",
    "meetings = get_meetings(today, end_of_week, meeting, interval)\n",
    "print(\"\\nMeetings this week: \")\n",
    "_ = [print(m.strftime(\"%b %d, %Y\")) for m in meetings]"
   ]
  },
  {
   "cell_type": "markdown",
   "metadata": {},
   "source": [
    "#### Challenge 3: Nested Collections and Data Aggregation"
   ]
  },
  {
   "cell_type": "code",
   "execution_count": 7,
   "metadata": {},
   "outputs": [
    {
     "name": "stdout",
     "output_type": "stream",
     "text": [
      "Average class grade:  88.25\n",
      "\n",
      "Sally scored the highest with a score of 98\n"
     ]
    }
   ],
   "source": [
    "students = [{\"name\": \"Sally\", \"grade\":98}, \n",
    "            {\"name\": \"Mary\", \"grade\":77}, \n",
    "            {\"name\": \"Jimmy\", \"grade\":86}, \n",
    "            {\"name\": \"Johnny\", \"grade\":92}, \n",
    "            ]\n",
    "\n",
    "avg_grade = sum([d[\"grade\"] for d in students])/len(students)\n",
    "print(\"Average class grade: \", avg_grade)\n",
    "\n",
    "best = max(students, key=lambda x: x['grade'])\n",
    "print(f\"\\n{best['name']} scored the highest with a score of {best['grade']}\")"
   ]
  },
  {
   "cell_type": "code",
   "execution_count": null,
   "metadata": {},
   "outputs": [],
   "source": []
  }
 ],
 "metadata": {
  "kernelspec": {
   "display_name": "Python 3",
   "language": "python",
   "name": "python3"
  },
  "language_info": {
   "codemirror_mode": {
    "name": "ipython",
    "version": 3
   },
   "file_extension": ".py",
   "mimetype": "text/x-python",
   "name": "python",
   "nbconvert_exporter": "python",
   "pygments_lexer": "ipython3",
   "version": "3.10.9"
  }
 },
 "nbformat": 4,
 "nbformat_minor": 2
}
