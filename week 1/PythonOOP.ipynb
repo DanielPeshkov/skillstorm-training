{
 "cells": [
  {
   "cell_type": "code",
   "execution_count": 103,
   "metadata": {},
   "outputs": [],
   "source": [
    "class ComputerComponent:\n",
    "    serial_number = 0\n",
    "\n",
    "    def __init__(self, manufacturer, model):\n",
    "        self.manufacturer = manufacturer\n",
    "        self.model = model\n",
    "        self.serial_number = ComputerComponent.serial_number\n",
    "        ComputerComponent.serial_number += 1\n",
    "\n",
    "    def __str__(self):\n",
    "        return f'{self.manufacturer} {self.model} #{self.serial_number}'"
   ]
  },
  {
   "cell_type": "code",
   "execution_count": 104,
   "metadata": {},
   "outputs": [],
   "source": [
    "class CPU(ComputerComponent):\n",
    "\n",
    "    def __init__(self, manufacturer, model, cores, clock_speed):\n",
    "        super(CPU, self).__init__(manufacturer, model)\n",
    "        self.cores = cores\n",
    "        self.clock_speed = clock_speed\n",
    "\n",
    "\n",
    "class Memory(ComputerComponent):\n",
    "\n",
    "    def __init__(self, manufacturer, model, capacity):\n",
    "        super(Memory, self).__init__(manufacturer, model)\n",
    "        self.capacity = capacity\n",
    "\n",
    "\n",
    "class Storage(ComputerComponent):\n",
    "\n",
    "    def __init__(self, manufacturer, model, storage_type, size):\n",
    "        super(Storage, self).__init__(manufacturer, model)\n",
    "        self.storage_type = storage_type\n",
    "        self.size = size"
   ]
  },
  {
   "cell_type": "code",
   "execution_count": 105,
   "metadata": {},
   "outputs": [],
   "source": [
    "class Computer:\n",
    "\n",
    "    def __init__(self, cpu: CPU, memory: Memory, storage: Storage):\n",
    "        if isinstance(cpu, CPU):\n",
    "            self.cpu = cpu\n",
    "        else:\n",
    "            raise Exception(\"CPU must be of type CPU!\")\n",
    "        \n",
    "        if isinstance(memory, Memory):\n",
    "            self.memory = memory\n",
    "        else:\n",
    "            raise Exception(\"Memory must be of type Memory!\")\n",
    "        \n",
    "        if isinstance(storage, Storage):\n",
    "            self.storage = storage\n",
    "        else:\n",
    "            raise Exception(\"Storage must be of type Storage!\")\n",
    "\n",
    "    def __str__(self):\n",
    "        return f\"CPU: {str(self.cpu)}\\nMemory: {str(self.memory)}\\nStorage: {str(self.storage)}\"\n",
    "    \n",
    "    def replace(self, comp: ComputerComponent):\n",
    "        if isinstance(comp, CPU):\n",
    "            self.cpu = comp\n",
    "        elif isinstance(comp, Memory):\n",
    "            self.memory = comp\n",
    "        elif isinstance(comp, Storage):\n",
    "            self.storage = comp\n",
    "        else:\n",
    "            raise Exception(\"Invalid component type!\")"
   ]
  },
  {
   "cell_type": "code",
   "execution_count": 106,
   "metadata": {},
   "outputs": [],
   "source": [
    "class IntelCPU(CPU):\n",
    "\n",
    "    def __init__(self, model, cores, clock_speed):\n",
    "        super(IntelCPU, self).__init__(\"Intel\", model, cores, clock_speed)\n",
    "\n",
    "class AmdCPU(CPU):\n",
    "\n",
    "    def __init__(self, model, cores, clock_speed):\n",
    "        super(AmdCPU, self).__init__(\"AMD\", model, cores, clock_speed)\n",
    "\n",
    "\n",
    "class CorsairMemory(Memory):\n",
    "\n",
    "    def __init__(self, model, capacity):\n",
    "        super(CorsairMemory, self).__init__(\"Corsair\", model, capacity)\n",
    "\n",
    "class KingstonMemory(Memory):\n",
    "\n",
    "    def __init__(self, model, capacity):\n",
    "        super(KingstonMemory, self).__init__(\"Kingston\", model, capacity)\n",
    "\n",
    "\n",
    "class SamsungStorage(Storage):\n",
    "\n",
    "    def __init__(self, model, storage_type, size):\n",
    "        super(SamsungStorage, self).__init__(\"Samsung\", model, storage_type, size)\n",
    "\n",
    "class SeagateStorage(Storage):\n",
    "\n",
    "    def __init__(self, model, storage_type, size):\n",
    "        super(SeagateStorage, self).__init__(\"Seagate\", model, storage_type, size)"
   ]
  },
  {
   "cell_type": "code",
   "execution_count": 107,
   "metadata": {},
   "outputs": [
    {
     "name": "stdout",
     "output_type": "stream",
     "text": [
      "CPU: Intel i5 #0\n",
      "Memory: Corsair Vengeance #1\n",
      "Storage: Samsung 990 Pro #2\n"
     ]
    }
   ],
   "source": [
    "cpu = IntelCPU(\"i5\", 8, 3600)\n",
    "mem = Memory(\"Corsair\", \"Vengeance\", 16)\n",
    "sto = Storage(\"Samsung\", \"990 Pro\", \"NVME SSD\", 2000)\n",
    "\n",
    "computer = Computer(cpu, mem, sto)\n",
    "print(computer)"
   ]
  },
  {
   "cell_type": "code",
   "execution_count": 108,
   "metadata": {},
   "outputs": [
    {
     "name": "stdout",
     "output_type": "stream",
     "text": [
      "CPU: AMD 5 #3\n",
      "Memory: Corsair Vengeance #1\n",
      "Storage: Samsung 990 Pro #2\n"
     ]
    }
   ],
   "source": [
    "cpu = AmdCPU(\"5\", 8, 3600)\n",
    "computer.replace(cpu)\n",
    "print(computer)"
   ]
  },
  {
   "cell_type": "code",
   "execution_count": null,
   "metadata": {},
   "outputs": [],
   "source": []
  }
 ],
 "metadata": {
  "kernelspec": {
   "display_name": "Python 3",
   "language": "python",
   "name": "python3"
  },
  "language_info": {
   "codemirror_mode": {
    "name": "ipython",
    "version": 3
   },
   "file_extension": ".py",
   "mimetype": "text/x-python",
   "name": "python",
   "nbconvert_exporter": "python",
   "pygments_lexer": "ipython3",
   "version": "3.10.9"
  }
 },
 "nbformat": 4,
 "nbformat_minor": 2
}
