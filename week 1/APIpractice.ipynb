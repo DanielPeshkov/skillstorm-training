{
 "cells": [
  {
   "cell_type": "code",
   "execution_count": 48,
   "metadata": {},
   "outputs": [
    {
     "data": {
      "text/plain": [
       "True"
      ]
     },
     "execution_count": 48,
     "metadata": {},
     "output_type": "execute_result"
    }
   ],
   "source": [
    "import os\n",
    "import requests\n",
    "from dotenv import load_dotenv\n",
    "import pandas as pd\n",
    "\n",
    "load_dotenv()"
   ]
  },
  {
   "cell_type": "code",
   "execution_count": 23,
   "metadata": {},
   "outputs": [
    {
     "data": {
      "text/html": [
       "<div>\n",
       "<style scoped>\n",
       "    .dataframe tbody tr th:only-of-type {\n",
       "        vertical-align: middle;\n",
       "    }\n",
       "\n",
       "    .dataframe tbody tr th {\n",
       "        vertical-align: top;\n",
       "    }\n",
       "\n",
       "    .dataframe thead th {\n",
       "        text-align: right;\n",
       "    }\n",
       "</style>\n",
       "<table border=\"1\" class=\"dataframe\">\n",
       "  <thead>\n",
       "    <tr style=\"text-align: right;\">\n",
       "      <th></th>\n",
       "      <th>list_name</th>\n",
       "      <th>display_name</th>\n",
       "      <th>list_name_encoded</th>\n",
       "      <th>oldest_published_date</th>\n",
       "      <th>newest_published_date</th>\n",
       "      <th>updated</th>\n",
       "    </tr>\n",
       "  </thead>\n",
       "  <tbody>\n",
       "    <tr>\n",
       "      <th>0</th>\n",
       "      <td>Combined Print and E-Book Fiction</td>\n",
       "      <td>Combined Print &amp; E-Book Fiction</td>\n",
       "      <td>combined-print-and-e-book-fiction</td>\n",
       "      <td>2011-02-13</td>\n",
       "      <td>2024-06-30</td>\n",
       "      <td>WEEKLY</td>\n",
       "    </tr>\n",
       "    <tr>\n",
       "      <th>1</th>\n",
       "      <td>Combined Print and E-Book Nonfiction</td>\n",
       "      <td>Combined Print &amp; E-Book Nonfiction</td>\n",
       "      <td>combined-print-and-e-book-nonfiction</td>\n",
       "      <td>2011-02-13</td>\n",
       "      <td>2024-06-30</td>\n",
       "      <td>WEEKLY</td>\n",
       "    </tr>\n",
       "    <tr>\n",
       "      <th>2</th>\n",
       "      <td>Hardcover Fiction</td>\n",
       "      <td>Hardcover Fiction</td>\n",
       "      <td>hardcover-fiction</td>\n",
       "      <td>2008-06-08</td>\n",
       "      <td>2024-06-30</td>\n",
       "      <td>WEEKLY</td>\n",
       "    </tr>\n",
       "    <tr>\n",
       "      <th>3</th>\n",
       "      <td>Hardcover Nonfiction</td>\n",
       "      <td>Hardcover Nonfiction</td>\n",
       "      <td>hardcover-nonfiction</td>\n",
       "      <td>2008-06-08</td>\n",
       "      <td>2024-06-30</td>\n",
       "      <td>WEEKLY</td>\n",
       "    </tr>\n",
       "    <tr>\n",
       "      <th>4</th>\n",
       "      <td>Trade Fiction Paperback</td>\n",
       "      <td>Paperback Trade Fiction</td>\n",
       "      <td>trade-fiction-paperback</td>\n",
       "      <td>2008-06-08</td>\n",
       "      <td>2024-06-30</td>\n",
       "      <td>WEEKLY</td>\n",
       "    </tr>\n",
       "  </tbody>\n",
       "</table>\n",
       "</div>"
      ],
      "text/plain": [
       "                              list_name                        display_name  \\\n",
       "0     Combined Print and E-Book Fiction     Combined Print & E-Book Fiction   \n",
       "1  Combined Print and E-Book Nonfiction  Combined Print & E-Book Nonfiction   \n",
       "2                     Hardcover Fiction                   Hardcover Fiction   \n",
       "3                  Hardcover Nonfiction                Hardcover Nonfiction   \n",
       "4               Trade Fiction Paperback             Paperback Trade Fiction   \n",
       "\n",
       "                      list_name_encoded oldest_published_date  \\\n",
       "0     combined-print-and-e-book-fiction            2011-02-13   \n",
       "1  combined-print-and-e-book-nonfiction            2011-02-13   \n",
       "2                     hardcover-fiction            2008-06-08   \n",
       "3                  hardcover-nonfiction            2008-06-08   \n",
       "4               trade-fiction-paperback            2008-06-08   \n",
       "\n",
       "  newest_published_date updated  \n",
       "0            2024-06-30  WEEKLY  \n",
       "1            2024-06-30  WEEKLY  \n",
       "2            2024-06-30  WEEKLY  \n",
       "3            2024-06-30  WEEKLY  \n",
       "4            2024-06-30  WEEKLY  "
      ]
     },
     "execution_count": 23,
     "metadata": {},
     "output_type": "execute_result"
    }
   ],
   "source": [
    "## API key call\n",
    "base_url = 'https://api.nytimes.com'\n",
    "books_api = '/svc/books/v3'\n",
    "lists_endpoint = '/lists/names.json'\n",
    "\n",
    "api_key = os.environ['nytimes_api_key']\n",
    "url = base_url + books_api + lists_endpoint\n",
    "params = {'api-key': api_key}\n",
    "\n",
    "response = requests.get(url=url, params=params)\n",
    "data = response.json()\n",
    "\n",
    "names = [r['list_name'] for r in data['results']]\n",
    "normalized = pd.json_normalize(data['results'])\n",
    "\n",
    "normalized.head()"
   ]
  },
  {
   "cell_type": "code",
   "execution_count": 39,
   "metadata": {},
   "outputs": [
    {
     "data": {
      "text/plain": [
       "'We want to allow developers to build great products powered by Reddit and we recognize our developer community is integral to the success of the Reddit platform. We also want to protect our users’ privacy and security.\\n\\nIn order to access the Reddit API directly, you must read our [Reddit’s Developer Terms](https://www.redditinc.com/policies/developer-terms) and [Data API Terms. ](https://www.redditinc.com/policies/data-api-terms)\\n\\nWhen you are ready, you must [register] (https://reddithelp.com/hc/en-us/requests/new?ticket_form_id=14868593862164) in order to use the Reddit API. Select “I’m a Developer” and “I want to register to use the Reddit API.” Then, you can [create credentials here.](https://old.reddit.com/prefs/apps/) \\n\\nHelpful resources:  \\nAll API clients must authenticate with [OAUTH 2](https://github.com/reddit/reddit/wiki/OAuth2)\\nSee our [API Specification](https://www.reddit.com/dev/api/) and FAQ and [additional documentation](https://support.reddithelp.com/hc/en-us/articles/16160319875092-Reddit-Data-API-Wiki)\\n\\nSign up for [Dev Platform,](https://developers.reddit.com/) a new improved way to build bots and apps!'"
      ]
     },
     "execution_count": 39,
     "metadata": {},
     "output_type": "execute_result"
    }
   ],
   "source": [
    "## No Auth\n",
    "reddit_url = 'https://www.reddit.com/wiki/api.json'\n",
    "\n",
    "reddit_response = requests.get(reddit_url)\n",
    "data = reddit_response.json()\n",
    "data['data']['content_md']"
   ]
  },
  {
   "cell_type": "code",
   "execution_count": 40,
   "metadata": {},
   "outputs": [
    {
     "name": "stdout",
     "output_type": "stream",
     "text": [
      "We want to allow developers to build great products powered by Reddit and we recognize our developer community is integral to the success of the Reddit platform. We also want to protect our users’ privacy and security.\n",
      "\n",
      "In order to access the Reddit API directly, you must read our [Reddit’s Developer Terms](https://www.redditinc.com/policies/developer-terms) and [Data API Terms. ](https://www.redditinc.com/policies/data-api-terms)\n",
      "\n",
      "When you are ready, you must [register] (https://reddithelp.com/hc/en-us/requests/new?ticket_form_id=14868593862164) in order to use the Reddit API. Select “I’m a Developer” and “I want to register to use the Reddit API.” Then, you can [create credentials here.](https://old.reddit.com/prefs/apps/) \n",
      "\n",
      "Helpful resources:  \n",
      "All API clients must authenticate with [OAUTH 2](https://github.com/reddit/reddit/wiki/OAuth2)\n",
      "See our [API Specification](https://www.reddit.com/dev/api/) and FAQ and [additional documentation](https://support.reddithelp.com/hc/en-us/articles/16160319875092-Reddit-Data-API-Wiki)\n",
      "\n",
      "Sign up for [Dev Platform,](https://developers.reddit.com/) a new improved way to build bots and apps!\n"
     ]
    }
   ],
   "source": [
    "print(data['data']['content_md'])"
   ]
  },
  {
   "cell_type": "code",
   "execution_count": null,
   "metadata": {},
   "outputs": [],
   "source": [
    "## OAuth\n",
    "CLIENT_ID = os.environ['reddit_clientID']\n",
    "SECRET_KEY = os.environ['reddit_secret_key']\n",
    "\n",
    "auth = requests.auth.HTTPBasicAuth(CLIENT_ID, SECRET_KEY)\n",
    "\n",
    "user = os.environ['reddit_user']\n",
    "secret = os.environ['reddit_pass']\n",
    "\n",
    "info = {\n",
    "    \"grant_type\": \"password\", \n",
    "    \"username\": user,\n",
    "    \"password\": secret,\n",
    "}\n",
    "\n",
    "headers = {'User-Agent': 'API/0.0.1'}\n",
    "\n",
    "res = requests.post('https://www.reddit.com/api/v1/access_token', auth=auth, data=info, headers=headers)\n",
    "TOKEN = res.json()['access_token']\n",
    "headers['Authorization'] = f'bearer {TOKEN}'\n",
    "response = requests.get('https://oauth.reddit.com/r/MachineLearning/hot', headers=headers)\n",
    "data = response.json()\n",
    "\n",
    "data"
   ]
  }
 ],
 "metadata": {
  "kernelspec": {
   "display_name": "Python 3",
   "language": "python",
   "name": "python3"
  },
  "language_info": {
   "codemirror_mode": {
    "name": "ipython",
    "version": 3
   },
   "file_extension": ".py",
   "mimetype": "text/x-python",
   "name": "python",
   "nbconvert_exporter": "python",
   "pygments_lexer": "ipython3",
   "version": "3.10.9"
  }
 },
 "nbformat": 4,
 "nbformat_minor": 2
}
