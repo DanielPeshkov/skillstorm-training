{
 "cells": [
  {
   "cell_type": "code",
   "execution_count": 1,
   "metadata": {},
   "outputs": [],
   "source": [
    "# Imports\n",
    "import re"
   ]
  },
  {
   "cell_type": "markdown",
   "metadata": {},
   "source": [
    "#### Exercise 1: String Validator"
   ]
  },
  {
   "cell_type": "code",
   "execution_count": 2,
   "metadata": {},
   "outputs": [
    {
     "name": "stdout",
     "output_type": "stream",
     "text": [
      "True\n",
      "True\n",
      "False\n",
      "False\n",
      "True\n"
     ]
    }
   ],
   "source": [
    "def validator(s: str):\n",
    "    if re.match(r'\\w+', s):\n",
    "        print('True')\n",
    "    else:\n",
    "        print('False')\n",
    "\n",
    "    if re.match(r'[a-zA-Z]+', s):\n",
    "        print('True')\n",
    "    else:\n",
    "        print('False')\n",
    "\n",
    "    if re.match(r'[0-9]+', s):\n",
    "        print('True')\n",
    "    else:\n",
    "        print('False')\n",
    "\n",
    "    if re.match(r'[a-z]+', s):\n",
    "        print('True')\n",
    "    else:\n",
    "        print('False')\n",
    "\n",
    "    if re.match(r'[A-Z]+', s):\n",
    "        print('True')\n",
    "    else:\n",
    "        print('False')\n",
    "\n",
    "validator('This is a string!')"
   ]
  },
  {
   "cell_type": "markdown",
   "metadata": {},
   "source": [
    "#### Exercise 2: Regular Expressions"
   ]
  },
  {
   "cell_type": "code",
   "execution_count": 3,
   "metadata": {},
   "outputs": [
    {
     "name": "stdout",
     "output_type": "stream",
     "text": [
      "['Word', ' 0', 'letters', '132', 'end.']\n"
     ]
    }
   ],
   "source": [
    "regex = r'^\\w+| [0-9]+|[123]+[123]+|\\w+[,.?!]$|\\w*(\\w)\\1\\w*'\n",
    "s = 'Word,  0 after whitespace, double letters, consecutive matching132, word with punctuation at the end.'\n",
    "print([match.group() for match in re.finditer(regex, s)])"
   ]
  },
  {
   "cell_type": "markdown",
   "metadata": {},
   "source": [
    "#### Exercise 3: Word Count"
   ]
  },
  {
   "cell_type": "code",
   "execution_count": 4,
   "metadata": {},
   "outputs": [
    {
     "name": "stdout",
     "output_type": "stream",
     "text": [
      "Words starting at Chapter 1: 124,465\n"
     ]
    }
   ],
   "source": [
    "with open('../data/Pride_and_Prejudice.txt', 'rt', encoding='utf8') as file:\n",
    "    f = file.read().strip()\n",
    "\n",
    "regex = r'Chapter 1\\n'\n",
    "print(f\"Words starting at Chapter 1: {len(re.split(regex, f)[2].split()):,}\")"
   ]
  },
  {
   "cell_type": "markdown",
   "metadata": {},
   "source": [
    "#### Exercise 4: Word Score"
   ]
  },
  {
   "cell_type": "code",
   "execution_count": 5,
   "metadata": {},
   "outputs": [
    {
     "data": {
      "text/plain": [
       "5"
      ]
     },
     "execution_count": 5,
     "metadata": {},
     "output_type": "execute_result"
    }
   ],
   "source": [
    "def score(*args):\n",
    "    score = 0\n",
    "    regex = r'[aeiouyAEIOUY]'\n",
    "    for arg in args:\n",
    "        if type(arg) == str:\n",
    "            vowels = len(re.findall(regex, arg))\n",
    "\n",
    "            if vowels % 2:\n",
    "                score += 1\n",
    "            else:\n",
    "                score += 2\n",
    "\n",
    "    return score\n",
    "\n",
    "score('a', 'word', 'longer', 'sentence')"
   ]
  },
  {
   "cell_type": "code",
   "execution_count": null,
   "metadata": {},
   "outputs": [],
   "source": []
  }
 ],
 "metadata": {
  "kernelspec": {
   "display_name": "Python 3",
   "language": "python",
   "name": "python3"
  },
  "language_info": {
   "codemirror_mode": {
    "name": "ipython",
    "version": 3
   },
   "file_extension": ".py",
   "mimetype": "text/x-python",
   "name": "python",
   "nbconvert_exporter": "python",
   "pygments_lexer": "ipython3",
   "version": "3.10.9"
  }
 },
 "nbformat": 4,
 "nbformat_minor": 2
}
