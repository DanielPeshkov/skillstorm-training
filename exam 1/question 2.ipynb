{
 "cells": [
  {
   "cell_type": "code",
   "execution_count": 1,
   "metadata": {},
   "outputs": [],
   "source": [
    "import pandas as pd\n",
    "df = pd.read_csv(\"songs_normalize.csv\")"
   ]
  },
  {
   "cell_type": "markdown",
   "metadata": {},
   "source": [
    "#### Question 1: How many records are in the dataset?"
   ]
  },
  {
   "cell_type": "code",
   "execution_count": 2,
   "metadata": {},
   "outputs": [
    {
     "name": "stdout",
     "output_type": "stream",
     "text": [
      "There are 2,000 records in the dataset\n"
     ]
    }
   ],
   "source": [
    "print(f\"There are {len(df):,} records in the dataset\")"
   ]
  },
  {
   "cell_type": "markdown",
   "metadata": {},
   "source": [
    "#### Question 2: What year is the oldest song in the dataset from?"
   ]
  },
  {
   "cell_type": "code",
   "execution_count": 3,
   "metadata": {},
   "outputs": [
    {
     "name": "stdout",
     "output_type": "stream",
     "text": [
      "The oldest song in the dataset is from the year 1998\n"
     ]
    }
   ],
   "source": [
    "print(f\"The oldest song in the dataset is from the year {df.year.value_counts().sort_index().index[0]}\")"
   ]
  },
  {
   "cell_type": "markdown",
   "metadata": {},
   "source": [
    "#### Question 3: What is the most popular song in the dataset?"
   ]
  },
  {
   "cell_type": "code",
   "execution_count": 4,
   "metadata": {},
   "outputs": [
    {
     "name": "stdout",
     "output_type": "stream",
     "text": [
      "The most popular song in the dataset is Sweater Weather\n"
     ]
    }
   ],
   "source": [
    "popular = df.sort_values(by=\"popularity\", ascending=False).reset_index(drop=True).loc[0, 'song']\n",
    "print(f\"The most popular song in the dataset is {popular}\")"
   ]
  },
  {
   "cell_type": "markdown",
   "metadata": {},
   "source": [
    "#### Question 4: How many unique genres are there?"
   ]
  },
  {
   "cell_type": "code",
   "execution_count": 5,
   "metadata": {},
   "outputs": [
    {
     "name": "stdout",
     "output_type": "stream",
     "text": [
      "There are 14 unique genres\n"
     ]
    }
   ],
   "source": [
    "unique = len(df.genre.str.split(', ').explode(\"genre\").value_counts().drop(index='set()'))\n",
    "print(f\"There are {unique} unique genres\")"
   ]
  },
  {
   "cell_type": "markdown",
   "metadata": {},
   "source": [
    "#### Question 5: What is the most popular unique individual genre by number of songs on the list?"
   ]
  },
  {
   "cell_type": "code",
   "execution_count": 6,
   "metadata": {},
   "outputs": [
    {
     "name": "stdout",
     "output_type": "stream",
     "text": [
      "The most popular genre by number of songs is pop\n"
     ]
    }
   ],
   "source": [
    "top_genre = df.genre.str.split(', ').explode(\"genre\").value_counts().drop(index='set()').index[0]\n",
    "print(f\"The most popular genre by number of songs is {top_genre}\")"
   ]
  },
  {
   "cell_type": "markdown",
   "metadata": {},
   "source": [
    "#### Question 6: What is the most popular artist by total number of songs on the list?"
   ]
  },
  {
   "cell_type": "code",
   "execution_count": 7,
   "metadata": {},
   "outputs": [
    {
     "name": "stdout",
     "output_type": "stream",
     "text": [
      "The most popular artist by total number of songs is Rihanna\n"
     ]
    }
   ],
   "source": [
    "top_artist = df.artist.value_counts().index[0]\n",
    "print(f\"The most popular artist by total number of songs is {top_artist}\")"
   ]
  },
  {
   "cell_type": "markdown",
   "metadata": {},
   "source": [
    "#### Question 7: Who is the artist of the longest song name?"
   ]
  },
  {
   "cell_type": "code",
   "execution_count": 8,
   "metadata": {},
   "outputs": [
    {
     "name": "stdout",
     "output_type": "stream",
     "text": [
      "The artist of the longest song title is ZAYN\n"
     ]
    }
   ],
   "source": [
    "ind = df.song.apply(lambda x: len(x)).sort_values(ascending=False).index[0]\n",
    "print(f\"The artist of the longest song title is {df.loc[ind].artist}\")"
   ]
  },
  {
   "cell_type": "markdown",
   "metadata": {},
   "source": [
    "#### Question 8: What is the total duration of songs in ms?"
   ]
  },
  {
   "cell_type": "code",
   "execution_count": 9,
   "metadata": {},
   "outputs": [
    {
     "name": "stdout",
     "output_type": "stream",
     "text": [
      "The duration of all songs combined is 457,496,249 ms\n"
     ]
    }
   ],
   "source": [
    "print(f\"The duration of all songs combined is {df.duration_ms.sum():,} ms\")"
   ]
  },
  {
   "cell_type": "markdown",
   "metadata": {},
   "source": [
    "#### Question 9: What is the second most popular explicit song from 2010?"
   ]
  },
  {
   "cell_type": "code",
   "execution_count": 10,
   "metadata": {},
   "outputs": [
    {
     "name": "stdout",
     "output_type": "stream",
     "text": [
      "The second most popular explicit song from 2010 is Not Afraid\n"
     ]
    }
   ],
   "source": [
    "song = df[(df.year == 2010) & (df.explicit == True)].sort_values(by=\"popularity\", ascending=False).iloc[1].song\n",
    "print(f\"The second most popular explicit song from 2010 is {song}\")"
   ]
  },
  {
   "cell_type": "markdown",
   "metadata": {},
   "source": [
    "#### Question 10: Save the original DataFrame as a parquet file using the default settings. What is the difference between the new file size and original file size?"
   ]
  },
  {
   "cell_type": "code",
   "execution_count": 11,
   "metadata": {},
   "outputs": [
    {
     "name": "stdout",
     "output_type": "stream",
     "text": [
      "The original csv file is 250KB, while the parquet is 144KB, making the new file 106KB smaller\n"
     ]
    }
   ],
   "source": [
    "df.to_parquet(\"songs_normalize.parquet\")\n",
    "print(f\"The original csv file is {250}KB, while the parquet is {144}KB, making the new file {250-144}KB smaller\")"
   ]
  },
  {
   "cell_type": "code",
   "execution_count": null,
   "metadata": {},
   "outputs": [],
   "source": []
  }
 ],
 "metadata": {
  "kernelspec": {
   "display_name": "Python 3",
   "language": "python",
   "name": "python3"
  },
  "language_info": {
   "codemirror_mode": {
    "name": "ipython",
    "version": 3
   },
   "file_extension": ".py",
   "mimetype": "text/x-python",
   "name": "python",
   "nbconvert_exporter": "python",
   "pygments_lexer": "ipython3",
   "version": "3.10.9"
  }
 },
 "nbformat": 4,
 "nbformat_minor": 2
}
